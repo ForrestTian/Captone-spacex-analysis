{
  "nbformat": 4,
  "nbformat_minor": 0,
  "metadata": {
    "colab": {
      "provenance": []
    },
    "kernelspec": {
      "name": "python3",
      "display_name": "Python 3"
    },
    "language_info": {
      "name": "python"
    }
  },
  "cells": [
    {
      "cell_type": "markdown",
      "source": [
        "#Space X Falcon 9 First Stage Landing Prediction\n",
        "Assignment: Machine Learning Prediction\n",
        "Estimated time needed: 60 minutes\n",
        "\n",
        "Space X advertises Falcon 9 rocket launches on its website with a cost of 62 million dollars; other providers cost upward of 165 million dollars each, much of the savings is because Space X can reuse the first stage. Therefore if we can determine if the first stage will land, we can determine the cost of a launch. This information can be used if an alternate company wants to bid against space X for a rocket launch. In this lab, you will create a machine learning pipeline to predict if the first stage will land given the data from the preceding labs.\n",
        "\n",
        "\n",
        "\n",
        "Several examples of an unsuccessful landing are shown here:\n",
        "Most unsuccessful landings are planed. Space X; performs a controlled landing in the oceans.\n",
        "\n",
        "Objectives\n",
        "Perform exploratory Data Analysis and determine Training Labels\n",
        "\n",
        "create a column for the class\n",
        "Standardize the data\n",
        "Split into training data and test data\n",
        "-Find best Hyperparameter for SVM, Classification Trees and Logistic Regression\n",
        "\n",
        "Find the method performs best using test data\n",
        "\n"
      ],
      "metadata": {
        "id": "hD848v2Uwx_H"
      }
    },
    {
      "cell_type": "code",
      "source": [],
      "metadata": {
        "id": "fExxe22Gwv2P"
      },
      "execution_count": null,
      "outputs": []
    },
    {
      "cell_type": "markdown",
      "source": [
        "##Import Libraries and Define Auxiliary Functions\n",
        "We will import the following libraries for the lab"
      ],
      "metadata": {
        "id": "5wRC4by5xALS"
      }
    },
    {
      "cell_type": "code",
      "execution_count": 2,
      "metadata": {
        "id": "WBVKxG08rPPj"
      },
      "outputs": [],
      "source": [
        "# Pandas is a software library written for the Python programming language for data manipulation and analysis.\n",
        "import pandas as pd\n",
        "# NumPy is a library for the Python programming language, adding support for large, multi-dimensional arrays and matrices, along with a large collection of high-level mathematical functions to operate on these arrays\n",
        "import numpy as np\n",
        "# Matplotlib is a plotting library for python and pyplot gives us a MatLab like plotting framework. We will use this in our plotter function to plot data.\n",
        "import matplotlib.pyplot as plt\n",
        "#Seaborn is a Python data visualization library based on matplotlib. It provides a high-level interface for drawing attractive and informative statistical graphics\n",
        "import seaborn as sns\n",
        "# Preprocessing allows us to standarsize our data\n",
        "from sklearn import preprocessing\n",
        "# Allows us to split our data into training and testing data\n",
        "from sklearn.model_selection import train_test_split\n",
        "# Allows us to test parameters of classification algorithms and find the best one\n",
        "from sklearn.model_selection import GridSearchCV\n",
        "# Logistic Regression classification algorithm\n",
        "from sklearn.linear_model import LogisticRegression\n",
        "# Support Vector Machine classification algorithm\n",
        "from sklearn.svm import SVC\n",
        "# Decision Tree classification algorithm\n",
        "from sklearn.tree import DecisionTreeClassifier\n",
        "# K Nearest Neighbors classification algorithm\n",
        "from sklearn.neighbors import KNeighborsClassifier\n",
        "#from sklearn.tree import plot_tree\n",
        "from sklearn.metrics import f1_score\n",
        "from sklearn.metrics import log_loss\n",
        "from sklearn import svm\n",
        "from sklearn import metrics\n",
        "import sklearn.tree as tree"
      ]
    },
    {
      "cell_type": "code",
      "source": [
        "#This function is to plot the confusion matrix.\n",
        "def plot_confusion_matrix(y,y_predict):\n",
        "    \"this function plots the confusion matrix\"\n",
        "    from sklearn.metrics import confusion_matrix\n",
        "\n",
        "    cm = confusion_matrix(y, y_predict)\n",
        "    ax= plt.subplot()\n",
        "    sns.heatmap(cm, annot=True, ax = ax); #annot=True to annotate cells\n",
        "    ax.set_xlabel('Predicted labels')\n",
        "    ax.set_ylabel('True labels')\n",
        "    ax.set_title('Confusion Matrix'); \n",
        "    ax.xaxis.set_ticklabels(['did not land', 'land']); ax.yaxis.set_ticklabels(['did not land', 'landed'])"
      ],
      "metadata": {
        "id": "1_a6ALrxrsdo"
      },
      "execution_count": 3,
      "outputs": []
    },
    {
      "cell_type": "code",
      "source": [
        "data = pd.read_csv(\"https://cf-courses-data.s3.us.cloud-object-storage.appdomain.cloud/IBM-DS0321EN-SkillsNetwork/datasets/dataset_part_2.csv\")\n",
        "\n",
        "\n",
        "data.head()"
      ],
      "metadata": {
        "colab": {
          "base_uri": "https://localhost:8080/",
          "height": 357
        },
        "id": "octQ85tzrW9B",
        "outputId": "514bb28d-16f2-4924-b01f-a39de5e0ca17"
      },
      "execution_count": 4,
      "outputs": [
        {
          "output_type": "execute_result",
          "data": {
            "text/plain": [
              "   FlightNumber        Date BoosterVersion  PayloadMass Orbit    LaunchSite  \\\n",
              "0             1  2010-06-04       Falcon 9  6104.959412   LEO  CCAFS SLC 40   \n",
              "1             2  2012-05-22       Falcon 9   525.000000   LEO  CCAFS SLC 40   \n",
              "2             3  2013-03-01       Falcon 9   677.000000   ISS  CCAFS SLC 40   \n",
              "3             4  2013-09-29       Falcon 9   500.000000    PO   VAFB SLC 4E   \n",
              "4             5  2013-12-03       Falcon 9  3170.000000   GTO  CCAFS SLC 40   \n",
              "\n",
              "       Outcome  Flights  GridFins  Reused   Legs LandingPad  Block  \\\n",
              "0    None None        1     False   False  False        NaN    1.0   \n",
              "1    None None        1     False   False  False        NaN    1.0   \n",
              "2    None None        1     False   False  False        NaN    1.0   \n",
              "3  False Ocean        1     False   False  False        NaN    1.0   \n",
              "4    None None        1     False   False  False        NaN    1.0   \n",
              "\n",
              "   ReusedCount Serial   Longitude   Latitude  Class  \n",
              "0            0  B0003  -80.577366  28.561857      0  \n",
              "1            0  B0005  -80.577366  28.561857      0  \n",
              "2            0  B0007  -80.577366  28.561857      0  \n",
              "3            0  B1003 -120.610829  34.632093      0  \n",
              "4            0  B1004  -80.577366  28.561857      0  "
            ],
            "text/html": [
              "\n",
              "  <div id=\"df-17ed6fa3-8a8d-42ef-8586-2f8e1980f93c\">\n",
              "    <div class=\"colab-df-container\">\n",
              "      <div>\n",
              "<style scoped>\n",
              "    .dataframe tbody tr th:only-of-type {\n",
              "        vertical-align: middle;\n",
              "    }\n",
              "\n",
              "    .dataframe tbody tr th {\n",
              "        vertical-align: top;\n",
              "    }\n",
              "\n",
              "    .dataframe thead th {\n",
              "        text-align: right;\n",
              "    }\n",
              "</style>\n",
              "<table border=\"1\" class=\"dataframe\">\n",
              "  <thead>\n",
              "    <tr style=\"text-align: right;\">\n",
              "      <th></th>\n",
              "      <th>FlightNumber</th>\n",
              "      <th>Date</th>\n",
              "      <th>BoosterVersion</th>\n",
              "      <th>PayloadMass</th>\n",
              "      <th>Orbit</th>\n",
              "      <th>LaunchSite</th>\n",
              "      <th>Outcome</th>\n",
              "      <th>Flights</th>\n",
              "      <th>GridFins</th>\n",
              "      <th>Reused</th>\n",
              "      <th>Legs</th>\n",
              "      <th>LandingPad</th>\n",
              "      <th>Block</th>\n",
              "      <th>ReusedCount</th>\n",
              "      <th>Serial</th>\n",
              "      <th>Longitude</th>\n",
              "      <th>Latitude</th>\n",
              "      <th>Class</th>\n",
              "    </tr>\n",
              "  </thead>\n",
              "  <tbody>\n",
              "    <tr>\n",
              "      <th>0</th>\n",
              "      <td>1</td>\n",
              "      <td>2010-06-04</td>\n",
              "      <td>Falcon 9</td>\n",
              "      <td>6104.959412</td>\n",
              "      <td>LEO</td>\n",
              "      <td>CCAFS SLC 40</td>\n",
              "      <td>None None</td>\n",
              "      <td>1</td>\n",
              "      <td>False</td>\n",
              "      <td>False</td>\n",
              "      <td>False</td>\n",
              "      <td>NaN</td>\n",
              "      <td>1.0</td>\n",
              "      <td>0</td>\n",
              "      <td>B0003</td>\n",
              "      <td>-80.577366</td>\n",
              "      <td>28.561857</td>\n",
              "      <td>0</td>\n",
              "    </tr>\n",
              "    <tr>\n",
              "      <th>1</th>\n",
              "      <td>2</td>\n",
              "      <td>2012-05-22</td>\n",
              "      <td>Falcon 9</td>\n",
              "      <td>525.000000</td>\n",
              "      <td>LEO</td>\n",
              "      <td>CCAFS SLC 40</td>\n",
              "      <td>None None</td>\n",
              "      <td>1</td>\n",
              "      <td>False</td>\n",
              "      <td>False</td>\n",
              "      <td>False</td>\n",
              "      <td>NaN</td>\n",
              "      <td>1.0</td>\n",
              "      <td>0</td>\n",
              "      <td>B0005</td>\n",
              "      <td>-80.577366</td>\n",
              "      <td>28.561857</td>\n",
              "      <td>0</td>\n",
              "    </tr>\n",
              "    <tr>\n",
              "      <th>2</th>\n",
              "      <td>3</td>\n",
              "      <td>2013-03-01</td>\n",
              "      <td>Falcon 9</td>\n",
              "      <td>677.000000</td>\n",
              "      <td>ISS</td>\n",
              "      <td>CCAFS SLC 40</td>\n",
              "      <td>None None</td>\n",
              "      <td>1</td>\n",
              "      <td>False</td>\n",
              "      <td>False</td>\n",
              "      <td>False</td>\n",
              "      <td>NaN</td>\n",
              "      <td>1.0</td>\n",
              "      <td>0</td>\n",
              "      <td>B0007</td>\n",
              "      <td>-80.577366</td>\n",
              "      <td>28.561857</td>\n",
              "      <td>0</td>\n",
              "    </tr>\n",
              "    <tr>\n",
              "      <th>3</th>\n",
              "      <td>4</td>\n",
              "      <td>2013-09-29</td>\n",
              "      <td>Falcon 9</td>\n",
              "      <td>500.000000</td>\n",
              "      <td>PO</td>\n",
              "      <td>VAFB SLC 4E</td>\n",
              "      <td>False Ocean</td>\n",
              "      <td>1</td>\n",
              "      <td>False</td>\n",
              "      <td>False</td>\n",
              "      <td>False</td>\n",
              "      <td>NaN</td>\n",
              "      <td>1.0</td>\n",
              "      <td>0</td>\n",
              "      <td>B1003</td>\n",
              "      <td>-120.610829</td>\n",
              "      <td>34.632093</td>\n",
              "      <td>0</td>\n",
              "    </tr>\n",
              "    <tr>\n",
              "      <th>4</th>\n",
              "      <td>5</td>\n",
              "      <td>2013-12-03</td>\n",
              "      <td>Falcon 9</td>\n",
              "      <td>3170.000000</td>\n",
              "      <td>GTO</td>\n",
              "      <td>CCAFS SLC 40</td>\n",
              "      <td>None None</td>\n",
              "      <td>1</td>\n",
              "      <td>False</td>\n",
              "      <td>False</td>\n",
              "      <td>False</td>\n",
              "      <td>NaN</td>\n",
              "      <td>1.0</td>\n",
              "      <td>0</td>\n",
              "      <td>B1004</td>\n",
              "      <td>-80.577366</td>\n",
              "      <td>28.561857</td>\n",
              "      <td>0</td>\n",
              "    </tr>\n",
              "  </tbody>\n",
              "</table>\n",
              "</div>\n",
              "      <button class=\"colab-df-convert\" onclick=\"convertToInteractive('df-17ed6fa3-8a8d-42ef-8586-2f8e1980f93c')\"\n",
              "              title=\"Convert this dataframe to an interactive table.\"\n",
              "              style=\"display:none;\">\n",
              "        \n",
              "  <svg xmlns=\"http://www.w3.org/2000/svg\" height=\"24px\"viewBox=\"0 0 24 24\"\n",
              "       width=\"24px\">\n",
              "    <path d=\"M0 0h24v24H0V0z\" fill=\"none\"/>\n",
              "    <path d=\"M18.56 5.44l.94 2.06.94-2.06 2.06-.94-2.06-.94-.94-2.06-.94 2.06-2.06.94zm-11 1L8.5 8.5l.94-2.06 2.06-.94-2.06-.94L8.5 2.5l-.94 2.06-2.06.94zm10 10l.94 2.06.94-2.06 2.06-.94-2.06-.94-.94-2.06-.94 2.06-2.06.94z\"/><path d=\"M17.41 7.96l-1.37-1.37c-.4-.4-.92-.59-1.43-.59-.52 0-1.04.2-1.43.59L10.3 9.45l-7.72 7.72c-.78.78-.78 2.05 0 2.83L4 21.41c.39.39.9.59 1.41.59.51 0 1.02-.2 1.41-.59l7.78-7.78 2.81-2.81c.8-.78.8-2.07 0-2.86zM5.41 20L4 18.59l7.72-7.72 1.47 1.35L5.41 20z\"/>\n",
              "  </svg>\n",
              "      </button>\n",
              "      \n",
              "  <style>\n",
              "    .colab-df-container {\n",
              "      display:flex;\n",
              "      flex-wrap:wrap;\n",
              "      gap: 12px;\n",
              "    }\n",
              "\n",
              "    .colab-df-convert {\n",
              "      background-color: #E8F0FE;\n",
              "      border: none;\n",
              "      border-radius: 50%;\n",
              "      cursor: pointer;\n",
              "      display: none;\n",
              "      fill: #1967D2;\n",
              "      height: 32px;\n",
              "      padding: 0 0 0 0;\n",
              "      width: 32px;\n",
              "    }\n",
              "\n",
              "    .colab-df-convert:hover {\n",
              "      background-color: #E2EBFA;\n",
              "      box-shadow: 0px 1px 2px rgba(60, 64, 67, 0.3), 0px 1px 3px 1px rgba(60, 64, 67, 0.15);\n",
              "      fill: #174EA6;\n",
              "    }\n",
              "\n",
              "    [theme=dark] .colab-df-convert {\n",
              "      background-color: #3B4455;\n",
              "      fill: #D2E3FC;\n",
              "    }\n",
              "\n",
              "    [theme=dark] .colab-df-convert:hover {\n",
              "      background-color: #434B5C;\n",
              "      box-shadow: 0px 1px 3px 1px rgba(0, 0, 0, 0.15);\n",
              "      filter: drop-shadow(0px 1px 2px rgba(0, 0, 0, 0.3));\n",
              "      fill: #FFFFFF;\n",
              "    }\n",
              "  </style>\n",
              "\n",
              "      <script>\n",
              "        const buttonEl =\n",
              "          document.querySelector('#df-17ed6fa3-8a8d-42ef-8586-2f8e1980f93c button.colab-df-convert');\n",
              "        buttonEl.style.display =\n",
              "          google.colab.kernel.accessAllowed ? 'block' : 'none';\n",
              "\n",
              "        async function convertToInteractive(key) {\n",
              "          const element = document.querySelector('#df-17ed6fa3-8a8d-42ef-8586-2f8e1980f93c');\n",
              "          const dataTable =\n",
              "            await google.colab.kernel.invokeFunction('convertToInteractive',\n",
              "                                                     [key], {});\n",
              "          if (!dataTable) return;\n",
              "\n",
              "          const docLinkHtml = 'Like what you see? Visit the ' +\n",
              "            '<a target=\"_blank\" href=https://colab.research.google.com/notebooks/data_table.ipynb>data table notebook</a>'\n",
              "            + ' to learn more about interactive tables.';\n",
              "          element.innerHTML = '';\n",
              "          dataTable['output_type'] = 'display_data';\n",
              "          await google.colab.output.renderOutput(dataTable, element);\n",
              "          const docLink = document.createElement('div');\n",
              "          docLink.innerHTML = docLinkHtml;\n",
              "          element.appendChild(docLink);\n",
              "        }\n",
              "      </script>\n",
              "    </div>\n",
              "  </div>\n",
              "  "
            ]
          },
          "metadata": {},
          "execution_count": 4
        }
      ]
    },
    {
      "cell_type": "code",
      "source": [
        "X = pd.read_csv('https://cf-courses-data.s3.us.cloud-object-storage.appdomain.cloud/IBM-DS0321EN-SkillsNetwork/datasets/dataset_part_3.csv')\n",
        "\n",
        "\n",
        "X.head(100)"
      ],
      "metadata": {
        "colab": {
          "base_uri": "https://localhost:8080/",
          "height": 505
        },
        "id": "k2TcxoWKrp7X",
        "outputId": "7c81fa57-6dcb-4176-9cb1-e2d1921dc79b"
      },
      "execution_count": 5,
      "outputs": [
        {
          "output_type": "execute_result",
          "data": {
            "text/plain": [
              "    FlightNumber   PayloadMass  Flights  Block  ReusedCount  Orbit_ES-L1  \\\n",
              "0            1.0   6104.959412      1.0    1.0          0.0          0.0   \n",
              "1            2.0    525.000000      1.0    1.0          0.0          0.0   \n",
              "2            3.0    677.000000      1.0    1.0          0.0          0.0   \n",
              "3            4.0    500.000000      1.0    1.0          0.0          0.0   \n",
              "4            5.0   3170.000000      1.0    1.0          0.0          0.0   \n",
              "..           ...           ...      ...    ...          ...          ...   \n",
              "85          86.0  15400.000000      2.0    5.0          2.0          0.0   \n",
              "86          87.0  15400.000000      3.0    5.0          2.0          0.0   \n",
              "87          88.0  15400.000000      6.0    5.0          5.0          0.0   \n",
              "88          89.0  15400.000000      3.0    5.0          2.0          0.0   \n",
              "89          90.0   3681.000000      1.0    5.0          0.0          0.0   \n",
              "\n",
              "    Orbit_GEO  Orbit_GTO  Orbit_HEO  Orbit_ISS  ...  Serial_B1058  \\\n",
              "0         0.0        0.0        0.0        0.0  ...           0.0   \n",
              "1         0.0        0.0        0.0        0.0  ...           0.0   \n",
              "2         0.0        0.0        0.0        1.0  ...           0.0   \n",
              "3         0.0        0.0        0.0        0.0  ...           0.0   \n",
              "4         0.0        1.0        0.0        0.0  ...           0.0   \n",
              "..        ...        ...        ...        ...  ...           ...   \n",
              "85        0.0        0.0        0.0        0.0  ...           0.0   \n",
              "86        0.0        0.0        0.0        0.0  ...           1.0   \n",
              "87        0.0        0.0        0.0        0.0  ...           0.0   \n",
              "88        0.0        0.0        0.0        0.0  ...           0.0   \n",
              "89        0.0        0.0        0.0        0.0  ...           0.0   \n",
              "\n",
              "    Serial_B1059  Serial_B1060  Serial_B1062  GridFins_False  GridFins_True  \\\n",
              "0            0.0           0.0           0.0             1.0            0.0   \n",
              "1            0.0           0.0           0.0             1.0            0.0   \n",
              "2            0.0           0.0           0.0             1.0            0.0   \n",
              "3            0.0           0.0           0.0             1.0            0.0   \n",
              "4            0.0           0.0           0.0             1.0            0.0   \n",
              "..           ...           ...           ...             ...            ...   \n",
              "85           0.0           1.0           0.0             0.0            1.0   \n",
              "86           0.0           0.0           0.0             0.0            1.0   \n",
              "87           0.0           0.0           0.0             0.0            1.0   \n",
              "88           0.0           1.0           0.0             0.0            1.0   \n",
              "89           0.0           0.0           1.0             0.0            1.0   \n",
              "\n",
              "    Reused_False  Reused_True  Legs_False  Legs_True  \n",
              "0            1.0          0.0         1.0        0.0  \n",
              "1            1.0          0.0         1.0        0.0  \n",
              "2            1.0          0.0         1.0        0.0  \n",
              "3            1.0          0.0         1.0        0.0  \n",
              "4            1.0          0.0         1.0        0.0  \n",
              "..           ...          ...         ...        ...  \n",
              "85           0.0          1.0         0.0        1.0  \n",
              "86           0.0          1.0         0.0        1.0  \n",
              "87           0.0          1.0         0.0        1.0  \n",
              "88           0.0          1.0         0.0        1.0  \n",
              "89           1.0          0.0         0.0        1.0  \n",
              "\n",
              "[90 rows x 83 columns]"
            ],
            "text/html": [
              "\n",
              "  <div id=\"df-f080d9d6-ab4b-4a0e-a911-8bf5f8167c1b\">\n",
              "    <div class=\"colab-df-container\">\n",
              "      <div>\n",
              "<style scoped>\n",
              "    .dataframe tbody tr th:only-of-type {\n",
              "        vertical-align: middle;\n",
              "    }\n",
              "\n",
              "    .dataframe tbody tr th {\n",
              "        vertical-align: top;\n",
              "    }\n",
              "\n",
              "    .dataframe thead th {\n",
              "        text-align: right;\n",
              "    }\n",
              "</style>\n",
              "<table border=\"1\" class=\"dataframe\">\n",
              "  <thead>\n",
              "    <tr style=\"text-align: right;\">\n",
              "      <th></th>\n",
              "      <th>FlightNumber</th>\n",
              "      <th>PayloadMass</th>\n",
              "      <th>Flights</th>\n",
              "      <th>Block</th>\n",
              "      <th>ReusedCount</th>\n",
              "      <th>Orbit_ES-L1</th>\n",
              "      <th>Orbit_GEO</th>\n",
              "      <th>Orbit_GTO</th>\n",
              "      <th>Orbit_HEO</th>\n",
              "      <th>Orbit_ISS</th>\n",
              "      <th>...</th>\n",
              "      <th>Serial_B1058</th>\n",
              "      <th>Serial_B1059</th>\n",
              "      <th>Serial_B1060</th>\n",
              "      <th>Serial_B1062</th>\n",
              "      <th>GridFins_False</th>\n",
              "      <th>GridFins_True</th>\n",
              "      <th>Reused_False</th>\n",
              "      <th>Reused_True</th>\n",
              "      <th>Legs_False</th>\n",
              "      <th>Legs_True</th>\n",
              "    </tr>\n",
              "  </thead>\n",
              "  <tbody>\n",
              "    <tr>\n",
              "      <th>0</th>\n",
              "      <td>1.0</td>\n",
              "      <td>6104.959412</td>\n",
              "      <td>1.0</td>\n",
              "      <td>1.0</td>\n",
              "      <td>0.0</td>\n",
              "      <td>0.0</td>\n",
              "      <td>0.0</td>\n",
              "      <td>0.0</td>\n",
              "      <td>0.0</td>\n",
              "      <td>0.0</td>\n",
              "      <td>...</td>\n",
              "      <td>0.0</td>\n",
              "      <td>0.0</td>\n",
              "      <td>0.0</td>\n",
              "      <td>0.0</td>\n",
              "      <td>1.0</td>\n",
              "      <td>0.0</td>\n",
              "      <td>1.0</td>\n",
              "      <td>0.0</td>\n",
              "      <td>1.0</td>\n",
              "      <td>0.0</td>\n",
              "    </tr>\n",
              "    <tr>\n",
              "      <th>1</th>\n",
              "      <td>2.0</td>\n",
              "      <td>525.000000</td>\n",
              "      <td>1.0</td>\n",
              "      <td>1.0</td>\n",
              "      <td>0.0</td>\n",
              "      <td>0.0</td>\n",
              "      <td>0.0</td>\n",
              "      <td>0.0</td>\n",
              "      <td>0.0</td>\n",
              "      <td>0.0</td>\n",
              "      <td>...</td>\n",
              "      <td>0.0</td>\n",
              "      <td>0.0</td>\n",
              "      <td>0.0</td>\n",
              "      <td>0.0</td>\n",
              "      <td>1.0</td>\n",
              "      <td>0.0</td>\n",
              "      <td>1.0</td>\n",
              "      <td>0.0</td>\n",
              "      <td>1.0</td>\n",
              "      <td>0.0</td>\n",
              "    </tr>\n",
              "    <tr>\n",
              "      <th>2</th>\n",
              "      <td>3.0</td>\n",
              "      <td>677.000000</td>\n",
              "      <td>1.0</td>\n",
              "      <td>1.0</td>\n",
              "      <td>0.0</td>\n",
              "      <td>0.0</td>\n",
              "      <td>0.0</td>\n",
              "      <td>0.0</td>\n",
              "      <td>0.0</td>\n",
              "      <td>1.0</td>\n",
              "      <td>...</td>\n",
              "      <td>0.0</td>\n",
              "      <td>0.0</td>\n",
              "      <td>0.0</td>\n",
              "      <td>0.0</td>\n",
              "      <td>1.0</td>\n",
              "      <td>0.0</td>\n",
              "      <td>1.0</td>\n",
              "      <td>0.0</td>\n",
              "      <td>1.0</td>\n",
              "      <td>0.0</td>\n",
              "    </tr>\n",
              "    <tr>\n",
              "      <th>3</th>\n",
              "      <td>4.0</td>\n",
              "      <td>500.000000</td>\n",
              "      <td>1.0</td>\n",
              "      <td>1.0</td>\n",
              "      <td>0.0</td>\n",
              "      <td>0.0</td>\n",
              "      <td>0.0</td>\n",
              "      <td>0.0</td>\n",
              "      <td>0.0</td>\n",
              "      <td>0.0</td>\n",
              "      <td>...</td>\n",
              "      <td>0.0</td>\n",
              "      <td>0.0</td>\n",
              "      <td>0.0</td>\n",
              "      <td>0.0</td>\n",
              "      <td>1.0</td>\n",
              "      <td>0.0</td>\n",
              "      <td>1.0</td>\n",
              "      <td>0.0</td>\n",
              "      <td>1.0</td>\n",
              "      <td>0.0</td>\n",
              "    </tr>\n",
              "    <tr>\n",
              "      <th>4</th>\n",
              "      <td>5.0</td>\n",
              "      <td>3170.000000</td>\n",
              "      <td>1.0</td>\n",
              "      <td>1.0</td>\n",
              "      <td>0.0</td>\n",
              "      <td>0.0</td>\n",
              "      <td>0.0</td>\n",
              "      <td>1.0</td>\n",
              "      <td>0.0</td>\n",
              "      <td>0.0</td>\n",
              "      <td>...</td>\n",
              "      <td>0.0</td>\n",
              "      <td>0.0</td>\n",
              "      <td>0.0</td>\n",
              "      <td>0.0</td>\n",
              "      <td>1.0</td>\n",
              "      <td>0.0</td>\n",
              "      <td>1.0</td>\n",
              "      <td>0.0</td>\n",
              "      <td>1.0</td>\n",
              "      <td>0.0</td>\n",
              "    </tr>\n",
              "    <tr>\n",
              "      <th>...</th>\n",
              "      <td>...</td>\n",
              "      <td>...</td>\n",
              "      <td>...</td>\n",
              "      <td>...</td>\n",
              "      <td>...</td>\n",
              "      <td>...</td>\n",
              "      <td>...</td>\n",
              "      <td>...</td>\n",
              "      <td>...</td>\n",
              "      <td>...</td>\n",
              "      <td>...</td>\n",
              "      <td>...</td>\n",
              "      <td>...</td>\n",
              "      <td>...</td>\n",
              "      <td>...</td>\n",
              "      <td>...</td>\n",
              "      <td>...</td>\n",
              "      <td>...</td>\n",
              "      <td>...</td>\n",
              "      <td>...</td>\n",
              "      <td>...</td>\n",
              "    </tr>\n",
              "    <tr>\n",
              "      <th>85</th>\n",
              "      <td>86.0</td>\n",
              "      <td>15400.000000</td>\n",
              "      <td>2.0</td>\n",
              "      <td>5.0</td>\n",
              "      <td>2.0</td>\n",
              "      <td>0.0</td>\n",
              "      <td>0.0</td>\n",
              "      <td>0.0</td>\n",
              "      <td>0.0</td>\n",
              "      <td>0.0</td>\n",
              "      <td>...</td>\n",
              "      <td>0.0</td>\n",
              "      <td>0.0</td>\n",
              "      <td>1.0</td>\n",
              "      <td>0.0</td>\n",
              "      <td>0.0</td>\n",
              "      <td>1.0</td>\n",
              "      <td>0.0</td>\n",
              "      <td>1.0</td>\n",
              "      <td>0.0</td>\n",
              "      <td>1.0</td>\n",
              "    </tr>\n",
              "    <tr>\n",
              "      <th>86</th>\n",
              "      <td>87.0</td>\n",
              "      <td>15400.000000</td>\n",
              "      <td>3.0</td>\n",
              "      <td>5.0</td>\n",
              "      <td>2.0</td>\n",
              "      <td>0.0</td>\n",
              "      <td>0.0</td>\n",
              "      <td>0.0</td>\n",
              "      <td>0.0</td>\n",
              "      <td>0.0</td>\n",
              "      <td>...</td>\n",
              "      <td>1.0</td>\n",
              "      <td>0.0</td>\n",
              "      <td>0.0</td>\n",
              "      <td>0.0</td>\n",
              "      <td>0.0</td>\n",
              "      <td>1.0</td>\n",
              "      <td>0.0</td>\n",
              "      <td>1.0</td>\n",
              "      <td>0.0</td>\n",
              "      <td>1.0</td>\n",
              "    </tr>\n",
              "    <tr>\n",
              "      <th>87</th>\n",
              "      <td>88.0</td>\n",
              "      <td>15400.000000</td>\n",
              "      <td>6.0</td>\n",
              "      <td>5.0</td>\n",
              "      <td>5.0</td>\n",
              "      <td>0.0</td>\n",
              "      <td>0.0</td>\n",
              "      <td>0.0</td>\n",
              "      <td>0.0</td>\n",
              "      <td>0.0</td>\n",
              "      <td>...</td>\n",
              "      <td>0.0</td>\n",
              "      <td>0.0</td>\n",
              "      <td>0.0</td>\n",
              "      <td>0.0</td>\n",
              "      <td>0.0</td>\n",
              "      <td>1.0</td>\n",
              "      <td>0.0</td>\n",
              "      <td>1.0</td>\n",
              "      <td>0.0</td>\n",
              "      <td>1.0</td>\n",
              "    </tr>\n",
              "    <tr>\n",
              "      <th>88</th>\n",
              "      <td>89.0</td>\n",
              "      <td>15400.000000</td>\n",
              "      <td>3.0</td>\n",
              "      <td>5.0</td>\n",
              "      <td>2.0</td>\n",
              "      <td>0.0</td>\n",
              "      <td>0.0</td>\n",
              "      <td>0.0</td>\n",
              "      <td>0.0</td>\n",
              "      <td>0.0</td>\n",
              "      <td>...</td>\n",
              "      <td>0.0</td>\n",
              "      <td>0.0</td>\n",
              "      <td>1.0</td>\n",
              "      <td>0.0</td>\n",
              "      <td>0.0</td>\n",
              "      <td>1.0</td>\n",
              "      <td>0.0</td>\n",
              "      <td>1.0</td>\n",
              "      <td>0.0</td>\n",
              "      <td>1.0</td>\n",
              "    </tr>\n",
              "    <tr>\n",
              "      <th>89</th>\n",
              "      <td>90.0</td>\n",
              "      <td>3681.000000</td>\n",
              "      <td>1.0</td>\n",
              "      <td>5.0</td>\n",
              "      <td>0.0</td>\n",
              "      <td>0.0</td>\n",
              "      <td>0.0</td>\n",
              "      <td>0.0</td>\n",
              "      <td>0.0</td>\n",
              "      <td>0.0</td>\n",
              "      <td>...</td>\n",
              "      <td>0.0</td>\n",
              "      <td>0.0</td>\n",
              "      <td>0.0</td>\n",
              "      <td>1.0</td>\n",
              "      <td>0.0</td>\n",
              "      <td>1.0</td>\n",
              "      <td>1.0</td>\n",
              "      <td>0.0</td>\n",
              "      <td>0.0</td>\n",
              "      <td>1.0</td>\n",
              "    </tr>\n",
              "  </tbody>\n",
              "</table>\n",
              "<p>90 rows × 83 columns</p>\n",
              "</div>\n",
              "      <button class=\"colab-df-convert\" onclick=\"convertToInteractive('df-f080d9d6-ab4b-4a0e-a911-8bf5f8167c1b')\"\n",
              "              title=\"Convert this dataframe to an interactive table.\"\n",
              "              style=\"display:none;\">\n",
              "        \n",
              "  <svg xmlns=\"http://www.w3.org/2000/svg\" height=\"24px\"viewBox=\"0 0 24 24\"\n",
              "       width=\"24px\">\n",
              "    <path d=\"M0 0h24v24H0V0z\" fill=\"none\"/>\n",
              "    <path d=\"M18.56 5.44l.94 2.06.94-2.06 2.06-.94-2.06-.94-.94-2.06-.94 2.06-2.06.94zm-11 1L8.5 8.5l.94-2.06 2.06-.94-2.06-.94L8.5 2.5l-.94 2.06-2.06.94zm10 10l.94 2.06.94-2.06 2.06-.94-2.06-.94-.94-2.06-.94 2.06-2.06.94z\"/><path d=\"M17.41 7.96l-1.37-1.37c-.4-.4-.92-.59-1.43-.59-.52 0-1.04.2-1.43.59L10.3 9.45l-7.72 7.72c-.78.78-.78 2.05 0 2.83L4 21.41c.39.39.9.59 1.41.59.51 0 1.02-.2 1.41-.59l7.78-7.78 2.81-2.81c.8-.78.8-2.07 0-2.86zM5.41 20L4 18.59l7.72-7.72 1.47 1.35L5.41 20z\"/>\n",
              "  </svg>\n",
              "      </button>\n",
              "      \n",
              "  <style>\n",
              "    .colab-df-container {\n",
              "      display:flex;\n",
              "      flex-wrap:wrap;\n",
              "      gap: 12px;\n",
              "    }\n",
              "\n",
              "    .colab-df-convert {\n",
              "      background-color: #E8F0FE;\n",
              "      border: none;\n",
              "      border-radius: 50%;\n",
              "      cursor: pointer;\n",
              "      display: none;\n",
              "      fill: #1967D2;\n",
              "      height: 32px;\n",
              "      padding: 0 0 0 0;\n",
              "      width: 32px;\n",
              "    }\n",
              "\n",
              "    .colab-df-convert:hover {\n",
              "      background-color: #E2EBFA;\n",
              "      box-shadow: 0px 1px 2px rgba(60, 64, 67, 0.3), 0px 1px 3px 1px rgba(60, 64, 67, 0.15);\n",
              "      fill: #174EA6;\n",
              "    }\n",
              "\n",
              "    [theme=dark] .colab-df-convert {\n",
              "      background-color: #3B4455;\n",
              "      fill: #D2E3FC;\n",
              "    }\n",
              "\n",
              "    [theme=dark] .colab-df-convert:hover {\n",
              "      background-color: #434B5C;\n",
              "      box-shadow: 0px 1px 3px 1px rgba(0, 0, 0, 0.15);\n",
              "      filter: drop-shadow(0px 1px 2px rgba(0, 0, 0, 0.3));\n",
              "      fill: #FFFFFF;\n",
              "    }\n",
              "  </style>\n",
              "\n",
              "      <script>\n",
              "        const buttonEl =\n",
              "          document.querySelector('#df-f080d9d6-ab4b-4a0e-a911-8bf5f8167c1b button.colab-df-convert');\n",
              "        buttonEl.style.display =\n",
              "          google.colab.kernel.accessAllowed ? 'block' : 'none';\n",
              "\n",
              "        async function convertToInteractive(key) {\n",
              "          const element = document.querySelector('#df-f080d9d6-ab4b-4a0e-a911-8bf5f8167c1b');\n",
              "          const dataTable =\n",
              "            await google.colab.kernel.invokeFunction('convertToInteractive',\n",
              "                                                     [key], {});\n",
              "          if (!dataTable) return;\n",
              "\n",
              "          const docLinkHtml = 'Like what you see? Visit the ' +\n",
              "            '<a target=\"_blank\" href=https://colab.research.google.com/notebooks/data_table.ipynb>data table notebook</a>'\n",
              "            + ' to learn more about interactive tables.';\n",
              "          element.innerHTML = '';\n",
              "          dataTable['output_type'] = 'display_data';\n",
              "          await google.colab.output.renderOutput(dataTable, element);\n",
              "          const docLink = document.createElement('div');\n",
              "          docLink.innerHTML = docLinkHtml;\n",
              "          element.appendChild(docLink);\n",
              "        }\n",
              "      </script>\n",
              "    </div>\n",
              "  </div>\n",
              "  "
            ]
          },
          "metadata": {},
          "execution_count": 5
        }
      ]
    },
    {
      "cell_type": "code",
      "source": [],
      "metadata": {
        "id": "0-8UU-Fyr-hZ"
      },
      "execution_count": 5,
      "outputs": []
    },
    {
      "cell_type": "markdown",
      "source": [
        "#TASK 1\n",
        "Create a NumPy array from the column Class in data, by applying the method to_numpy() then assign it to the variable Y,make sure the output is a Pandas series (only one bracket df['name of column'])."
      ],
      "metadata": {
        "id": "Qukt3TfCsFYb"
      }
    },
    {
      "cell_type": "code",
      "source": [
        "Y = data['Class'].to_numpy()\n",
        "#len(Y)\n",
        "Y"
      ],
      "metadata": {
        "colab": {
          "base_uri": "https://localhost:8080/"
        },
        "id": "mlYaGiGvsH0J",
        "outputId": "40a2cf0f-03ba-4d4c-f931-9895eff2cfaf"
      },
      "execution_count": 6,
      "outputs": [
        {
          "output_type": "execute_result",
          "data": {
            "text/plain": [
              "array([0, 0, 0, 0, 0, 0, 1, 1, 0, 0, 0, 0, 1, 0, 0, 0, 1, 0, 0, 1, 1, 1,\n",
              "       1, 1, 0, 1, 1, 0, 1, 1, 0, 1, 1, 1, 0, 1, 1, 1, 1, 1, 1, 1, 1, 1,\n",
              "       1, 0, 0, 0, 1, 1, 0, 0, 1, 1, 1, 1, 1, 1, 1, 0, 0, 1, 1, 1, 1, 1,\n",
              "       1, 0, 1, 1, 1, 1, 0, 1, 0, 1, 0, 1, 1, 1, 1, 1, 1, 1, 1, 1, 1, 1,\n",
              "       1, 1])"
            ]
          },
          "metadata": {},
          "execution_count": 6
        }
      ]
    },
    {
      "cell_type": "code",
      "source": [],
      "metadata": {
        "id": "Bi79tYzlsRJ3"
      },
      "execution_count": 6,
      "outputs": []
    },
    {
      "cell_type": "markdown",
      "source": [
        "#TASK 2\n",
        "Standardize the data in X then reassign it to the variable X using the transform provided below."
      ],
      "metadata": {
        "id": "KDUQTYMSsZmb"
      }
    },
    {
      "cell_type": "code",
      "source": [
        "X= preprocessing.StandardScaler().fit(X).transform(X)\n",
        "X[0:5]\n"
      ],
      "metadata": {
        "id": "tYwOmcDCsbTl",
        "colab": {
          "base_uri": "https://localhost:8080/"
        },
        "outputId": "ff9299bf-f932-4c18-d927-4e1e2c038460"
      },
      "execution_count": 7,
      "outputs": [
        {
          "output_type": "execute_result",
          "data": {
            "text/plain": [
              "array([[-1.71291154e+00, -1.94814463e-16, -6.53912840e-01,\n",
              "        -1.57589457e+00, -9.73440458e-01, -1.05999788e-01,\n",
              "        -1.05999788e-01, -6.54653671e-01, -1.05999788e-01,\n",
              "        -5.51677284e-01,  3.44342023e+00, -1.85695338e-01,\n",
              "        -3.33333333e-01, -1.05999788e-01, -2.42535625e-01,\n",
              "        -4.29197538e-01,  7.97724035e-01, -5.68796459e-01,\n",
              "        -4.10890702e-01, -4.10890702e-01, -1.50755672e-01,\n",
              "        -7.97724035e-01, -1.50755672e-01, -3.92232270e-01,\n",
              "         9.43398113e+00, -1.05999788e-01, -1.05999788e-01,\n",
              "        -1.05999788e-01, -1.05999788e-01, -1.05999788e-01,\n",
              "        -1.05999788e-01, -1.05999788e-01, -1.05999788e-01,\n",
              "        -1.05999788e-01, -1.05999788e-01, -1.05999788e-01,\n",
              "        -1.05999788e-01, -1.05999788e-01, -1.05999788e-01,\n",
              "        -1.05999788e-01, -1.05999788e-01, -1.05999788e-01,\n",
              "        -1.05999788e-01, -1.50755672e-01, -1.05999788e-01,\n",
              "        -1.05999788e-01, -1.05999788e-01, -1.05999788e-01,\n",
              "        -1.05999788e-01, -1.50755672e-01, -1.05999788e-01,\n",
              "        -1.50755672e-01, -1.50755672e-01, -1.05999788e-01,\n",
              "        -1.50755672e-01, -1.50755672e-01, -1.05999788e-01,\n",
              "        -1.05999788e-01, -1.50755672e-01, -1.50755672e-01,\n",
              "        -1.50755672e-01, -1.05999788e-01, -1.05999788e-01,\n",
              "        -1.05999788e-01, -1.50755672e-01, -2.15665546e-01,\n",
              "        -1.85695338e-01, -2.15665546e-01, -2.67261242e-01,\n",
              "        -1.05999788e-01, -2.42535625e-01, -1.05999788e-01,\n",
              "        -2.15665546e-01, -1.85695338e-01, -2.15665546e-01,\n",
              "        -1.85695338e-01, -1.05999788e-01,  1.87082869e+00,\n",
              "        -1.87082869e+00,  8.35531692e-01, -8.35531692e-01,\n",
              "         1.93309133e+00, -1.93309133e+00],\n",
              "       [-1.67441914e+00, -1.19523159e+00, -6.53912840e-01,\n",
              "        -1.57589457e+00, -9.73440458e-01, -1.05999788e-01,\n",
              "        -1.05999788e-01, -6.54653671e-01, -1.05999788e-01,\n",
              "        -5.51677284e-01,  3.44342023e+00, -1.85695338e-01,\n",
              "        -3.33333333e-01, -1.05999788e-01, -2.42535625e-01,\n",
              "        -4.29197538e-01,  7.97724035e-01, -5.68796459e-01,\n",
              "        -4.10890702e-01, -4.10890702e-01, -1.50755672e-01,\n",
              "        -7.97724035e-01, -1.50755672e-01, -3.92232270e-01,\n",
              "        -1.05999788e-01,  9.43398113e+00, -1.05999788e-01,\n",
              "        -1.05999788e-01, -1.05999788e-01, -1.05999788e-01,\n",
              "        -1.05999788e-01, -1.05999788e-01, -1.05999788e-01,\n",
              "        -1.05999788e-01, -1.05999788e-01, -1.05999788e-01,\n",
              "        -1.05999788e-01, -1.05999788e-01, -1.05999788e-01,\n",
              "        -1.05999788e-01, -1.05999788e-01, -1.05999788e-01,\n",
              "        -1.05999788e-01, -1.50755672e-01, -1.05999788e-01,\n",
              "        -1.05999788e-01, -1.05999788e-01, -1.05999788e-01,\n",
              "        -1.05999788e-01, -1.50755672e-01, -1.05999788e-01,\n",
              "        -1.50755672e-01, -1.50755672e-01, -1.05999788e-01,\n",
              "        -1.50755672e-01, -1.50755672e-01, -1.05999788e-01,\n",
              "        -1.05999788e-01, -1.50755672e-01, -1.50755672e-01,\n",
              "        -1.50755672e-01, -1.05999788e-01, -1.05999788e-01,\n",
              "        -1.05999788e-01, -1.50755672e-01, -2.15665546e-01,\n",
              "        -1.85695338e-01, -2.15665546e-01, -2.67261242e-01,\n",
              "        -1.05999788e-01, -2.42535625e-01, -1.05999788e-01,\n",
              "        -2.15665546e-01, -1.85695338e-01, -2.15665546e-01,\n",
              "        -1.85695338e-01, -1.05999788e-01,  1.87082869e+00,\n",
              "        -1.87082869e+00,  8.35531692e-01, -8.35531692e-01,\n",
              "         1.93309133e+00, -1.93309133e+00],\n",
              "       [-1.63592675e+00, -1.16267307e+00, -6.53912840e-01,\n",
              "        -1.57589457e+00, -9.73440458e-01, -1.05999788e-01,\n",
              "        -1.05999788e-01, -6.54653671e-01, -1.05999788e-01,\n",
              "         1.81265393e+00, -2.90408935e-01, -1.85695338e-01,\n",
              "        -3.33333333e-01, -1.05999788e-01, -2.42535625e-01,\n",
              "        -4.29197538e-01,  7.97724035e-01, -5.68796459e-01,\n",
              "        -4.10890702e-01, -4.10890702e-01, -1.50755672e-01,\n",
              "        -7.97724035e-01, -1.50755672e-01, -3.92232270e-01,\n",
              "        -1.05999788e-01, -1.05999788e-01,  9.43398113e+00,\n",
              "        -1.05999788e-01, -1.05999788e-01, -1.05999788e-01,\n",
              "        -1.05999788e-01, -1.05999788e-01, -1.05999788e-01,\n",
              "        -1.05999788e-01, -1.05999788e-01, -1.05999788e-01,\n",
              "        -1.05999788e-01, -1.05999788e-01, -1.05999788e-01,\n",
              "        -1.05999788e-01, -1.05999788e-01, -1.05999788e-01,\n",
              "        -1.05999788e-01, -1.50755672e-01, -1.05999788e-01,\n",
              "        -1.05999788e-01, -1.05999788e-01, -1.05999788e-01,\n",
              "        -1.05999788e-01, -1.50755672e-01, -1.05999788e-01,\n",
              "        -1.50755672e-01, -1.50755672e-01, -1.05999788e-01,\n",
              "        -1.50755672e-01, -1.50755672e-01, -1.05999788e-01,\n",
              "        -1.05999788e-01, -1.50755672e-01, -1.50755672e-01,\n",
              "        -1.50755672e-01, -1.05999788e-01, -1.05999788e-01,\n",
              "        -1.05999788e-01, -1.50755672e-01, -2.15665546e-01,\n",
              "        -1.85695338e-01, -2.15665546e-01, -2.67261242e-01,\n",
              "        -1.05999788e-01, -2.42535625e-01, -1.05999788e-01,\n",
              "        -2.15665546e-01, -1.85695338e-01, -2.15665546e-01,\n",
              "        -1.85695338e-01, -1.05999788e-01,  1.87082869e+00,\n",
              "        -1.87082869e+00,  8.35531692e-01, -8.35531692e-01,\n",
              "         1.93309133e+00, -1.93309133e+00],\n",
              "       [-1.59743435e+00, -1.20058661e+00, -6.53912840e-01,\n",
              "        -1.57589457e+00, -9.73440458e-01, -1.05999788e-01,\n",
              "        -1.05999788e-01, -6.54653671e-01, -1.05999788e-01,\n",
              "        -5.51677284e-01, -2.90408935e-01, -1.85695338e-01,\n",
              "         3.00000000e+00, -1.05999788e-01, -2.42535625e-01,\n",
              "        -4.29197538e-01, -1.25356634e+00, -5.68796459e-01,\n",
              "         2.43373723e+00, -4.10890702e-01, -1.50755672e-01,\n",
              "        -7.97724035e-01, -1.50755672e-01, -3.92232270e-01,\n",
              "        -1.05999788e-01, -1.05999788e-01, -1.05999788e-01,\n",
              "         9.43398113e+00, -1.05999788e-01, -1.05999788e-01,\n",
              "        -1.05999788e-01, -1.05999788e-01, -1.05999788e-01,\n",
              "        -1.05999788e-01, -1.05999788e-01, -1.05999788e-01,\n",
              "        -1.05999788e-01, -1.05999788e-01, -1.05999788e-01,\n",
              "        -1.05999788e-01, -1.05999788e-01, -1.05999788e-01,\n",
              "        -1.05999788e-01, -1.50755672e-01, -1.05999788e-01,\n",
              "        -1.05999788e-01, -1.05999788e-01, -1.05999788e-01,\n",
              "        -1.05999788e-01, -1.50755672e-01, -1.05999788e-01,\n",
              "        -1.50755672e-01, -1.50755672e-01, -1.05999788e-01,\n",
              "        -1.50755672e-01, -1.50755672e-01, -1.05999788e-01,\n",
              "        -1.05999788e-01, -1.50755672e-01, -1.50755672e-01,\n",
              "        -1.50755672e-01, -1.05999788e-01, -1.05999788e-01,\n",
              "        -1.05999788e-01, -1.50755672e-01, -2.15665546e-01,\n",
              "        -1.85695338e-01, -2.15665546e-01, -2.67261242e-01,\n",
              "        -1.05999788e-01, -2.42535625e-01, -1.05999788e-01,\n",
              "        -2.15665546e-01, -1.85695338e-01, -2.15665546e-01,\n",
              "        -1.85695338e-01, -1.05999788e-01,  1.87082869e+00,\n",
              "        -1.87082869e+00,  8.35531692e-01, -8.35531692e-01,\n",
              "         1.93309133e+00, -1.93309133e+00],\n",
              "       [-1.55894196e+00, -6.28670558e-01, -6.53912840e-01,\n",
              "        -1.57589457e+00, -9.73440458e-01, -1.05999788e-01,\n",
              "        -1.05999788e-01,  1.52752523e+00, -1.05999788e-01,\n",
              "        -5.51677284e-01, -2.90408935e-01, -1.85695338e-01,\n",
              "        -3.33333333e-01, -1.05999788e-01, -2.42535625e-01,\n",
              "        -4.29197538e-01,  7.97724035e-01, -5.68796459e-01,\n",
              "        -4.10890702e-01, -4.10890702e-01, -1.50755672e-01,\n",
              "        -7.97724035e-01, -1.50755672e-01, -3.92232270e-01,\n",
              "        -1.05999788e-01, -1.05999788e-01, -1.05999788e-01,\n",
              "        -1.05999788e-01,  9.43398113e+00, -1.05999788e-01,\n",
              "        -1.05999788e-01, -1.05999788e-01, -1.05999788e-01,\n",
              "        -1.05999788e-01, -1.05999788e-01, -1.05999788e-01,\n",
              "        -1.05999788e-01, -1.05999788e-01, -1.05999788e-01,\n",
              "        -1.05999788e-01, -1.05999788e-01, -1.05999788e-01,\n",
              "        -1.05999788e-01, -1.50755672e-01, -1.05999788e-01,\n",
              "        -1.05999788e-01, -1.05999788e-01, -1.05999788e-01,\n",
              "        -1.05999788e-01, -1.50755672e-01, -1.05999788e-01,\n",
              "        -1.50755672e-01, -1.50755672e-01, -1.05999788e-01,\n",
              "        -1.50755672e-01, -1.50755672e-01, -1.05999788e-01,\n",
              "        -1.05999788e-01, -1.50755672e-01, -1.50755672e-01,\n",
              "        -1.50755672e-01, -1.05999788e-01, -1.05999788e-01,\n",
              "        -1.05999788e-01, -1.50755672e-01, -2.15665546e-01,\n",
              "        -1.85695338e-01, -2.15665546e-01, -2.67261242e-01,\n",
              "        -1.05999788e-01, -2.42535625e-01, -1.05999788e-01,\n",
              "        -2.15665546e-01, -1.85695338e-01, -2.15665546e-01,\n",
              "        -1.85695338e-01, -1.05999788e-01,  1.87082869e+00,\n",
              "        -1.87082869e+00,  8.35531692e-01, -8.35531692e-01,\n",
              "         1.93309133e+00, -1.93309133e+00]])"
            ]
          },
          "metadata": {},
          "execution_count": 7
        }
      ]
    },
    {
      "cell_type": "markdown",
      "source": [
        "We split the data into training and testing data using the function train_test_split. The training data is divided into validation data, a second set used for training data; then the models are trained and hyperparameters are selected using the function GridSearchCV."
      ],
      "metadata": {
        "id": "Qf-QMdMjsst0"
      }
    },
    {
      "cell_type": "markdown",
      "source": [
        "#TASK 3\n",
        "Use the function train_test_split to split the data X and Y into training and test data. Set the parameter test_size to 0.2 and random_state to 2. The training data and test data should be assigned to the following labels."
      ],
      "metadata": {
        "id": "o57macq2sx5H"
      }
    },
    {
      "cell_type": "code",
      "source": [
        "X_train, X_test, Y_train, Y_test = train_test_split(X, Y, test_size=0.2, random_state=2)"
      ],
      "metadata": {
        "id": "nAtFShfVsl6S"
      },
      "execution_count": 8,
      "outputs": []
    },
    {
      "cell_type": "code",
      "source": [
        "Y_test.shape"
      ],
      "metadata": {
        "colab": {
          "base_uri": "https://localhost:8080/"
        },
        "id": "XhG5Q2Kms9r5",
        "outputId": "4358d6c3-bd43-4663-8d47-ba2019c065e8"
      },
      "execution_count": 9,
      "outputs": [
        {
          "output_type": "execute_result",
          "data": {
            "text/plain": [
              "(18,)"
            ]
          },
          "metadata": {},
          "execution_count": 9
        }
      ]
    },
    {
      "cell_type": "code",
      "source": [
        "X_train.shape"
      ],
      "metadata": {
        "colab": {
          "base_uri": "https://localhost:8080/"
        },
        "id": "pgXyMfZUnIat",
        "outputId": "ebe5f0d0-000c-4735-c185-9a438d982e31"
      },
      "execution_count": 10,
      "outputs": [
        {
          "output_type": "execute_result",
          "data": {
            "text/plain": [
              "(72, 83)"
            ]
          },
          "metadata": {},
          "execution_count": 10
        }
      ]
    },
    {
      "cell_type": "markdown",
      "source": [
        "#TASK 4\n",
        "Create a logistic regression object then create a GridSearchCV object logreg_cv with cv = 10. Fit the object to find the best parameters from the dictionary parameters.\n",
        "\n",
        "##Logistic Regression"
      ],
      "metadata": {
        "id": "JTCS81_ytNXm"
      }
    },
    {
      "cell_type": "code",
      "source": [
        "from sklearn.linear_model import LogisticRegression\n",
        "from sklearn.metrics import confusion_matrix\n",
        "from sklearn.model_selection import cross_val_score"
      ],
      "metadata": {
        "id": "UTqljt7JrFPg"
      },
      "execution_count": 11,
      "outputs": []
    },
    {
      "cell_type": "code",
      "source": [
        "for k in ('lbfgs', 'saga', 'liblinear', 'newton-cg', 'sag'):\n",
        "  for C in (0.01, 0.1, 0.001, 0.2, 0.5, 1, 10, 100): # method 2 to find out the best model\n",
        "    lr_model = LogisticRegression(C = 0.01, solver = k).fit(X_train, Y_train)\n",
        "    lr_yhat = lr_model.predict(X_test)\n",
        "    y_prob = lr_model.predict_proba(X_test)\n",
        "    print(f'When Solver is {k} and C is {C}, logloss is : {log_loss(Y_test, y_prob):.3f}') # we can see score only correlate the sovler, not correlate c\n",
        "    "
      ],
      "metadata": {
        "colab": {
          "base_uri": "https://localhost:8080/"
        },
        "id": "2GplqTcCqv9v",
        "outputId": "808aaf19-6c84-4e6d-e893-363a927df151"
      },
      "execution_count": 12,
      "outputs": [
        {
          "output_type": "stream",
          "name": "stdout",
          "text": [
            "When Solver is lbfgs and C is 0.01, logloss is : 0.479\n",
            "When Solver is lbfgs and C is 0.1, logloss is : 0.479\n",
            "When Solver is lbfgs and C is 0.001, logloss is : 0.479\n",
            "When Solver is lbfgs and C is 0.2, logloss is : 0.479\n",
            "When Solver is lbfgs and C is 0.5, logloss is : 0.479\n",
            "When Solver is lbfgs and C is 1, logloss is : 0.479\n",
            "When Solver is lbfgs and C is 10, logloss is : 0.479\n",
            "When Solver is lbfgs and C is 100, logloss is : 0.479\n",
            "When Solver is saga and C is 0.01, logloss is : 0.479\n",
            "When Solver is saga and C is 0.1, logloss is : 0.479\n",
            "When Solver is saga and C is 0.001, logloss is : 0.479\n",
            "When Solver is saga and C is 0.2, logloss is : 0.479\n",
            "When Solver is saga and C is 0.5, logloss is : 0.479\n",
            "When Solver is saga and C is 1, logloss is : 0.479\n",
            "When Solver is saga and C is 10, logloss is : 0.479\n",
            "When Solver is saga and C is 100, logloss is : 0.479\n",
            "When Solver is liblinear and C is 0.01, logloss is : 0.514\n",
            "When Solver is liblinear and C is 0.1, logloss is : 0.514\n",
            "When Solver is liblinear and C is 0.001, logloss is : 0.514\n",
            "When Solver is liblinear and C is 0.2, logloss is : 0.514\n",
            "When Solver is liblinear and C is 0.5, logloss is : 0.514\n",
            "When Solver is liblinear and C is 1, logloss is : 0.514\n",
            "When Solver is liblinear and C is 10, logloss is : 0.514\n",
            "When Solver is liblinear and C is 100, logloss is : 0.514\n",
            "When Solver is newton-cg and C is 0.01, logloss is : 0.479\n",
            "When Solver is newton-cg and C is 0.1, logloss is : 0.479\n",
            "When Solver is newton-cg and C is 0.001, logloss is : 0.479\n",
            "When Solver is newton-cg and C is 0.2, logloss is : 0.479\n",
            "When Solver is newton-cg and C is 0.5, logloss is : 0.479\n",
            "When Solver is newton-cg and C is 1, logloss is : 0.479\n",
            "When Solver is newton-cg and C is 10, logloss is : 0.479\n",
            "When Solver is newton-cg and C is 100, logloss is : 0.479\n",
            "When Solver is sag and C is 0.01, logloss is : 0.479\n",
            "When Solver is sag and C is 0.1, logloss is : 0.479\n",
            "When Solver is sag and C is 0.001, logloss is : 0.479\n",
            "When Solver is sag and C is 0.2, logloss is : 0.479\n",
            "When Solver is sag and C is 0.5, logloss is : 0.479\n",
            "When Solver is sag and C is 1, logloss is : 0.479\n",
            "When Solver is sag and C is 10, logloss is : 0.479\n",
            "When Solver is sag and C is 100, logloss is : 0.479\n"
          ]
        }
      ]
    },
    {
      "cell_type": "code",
      "source": [
        "LR = LogisticRegression(C=0.01, solver='liblinear').fit(X_train,Y_train) # we can see solver= 'libinear' is best. and C can be 0.01\n",
        "LR"
      ],
      "metadata": {
        "colab": {
          "base_uri": "https://localhost:8080/"
        },
        "id": "0aCHjdRwscuZ",
        "outputId": "b229c161-769e-4b0a-f410-a6fd6642feb9"
      },
      "execution_count": 13,
      "outputs": [
        {
          "output_type": "execute_result",
          "data": {
            "text/plain": [
              "LogisticRegression(C=0.01, solver='liblinear')"
            ]
          },
          "metadata": {},
          "execution_count": 13
        }
      ]
    },
    {
      "cell_type": "code",
      "source": [
        "yhat1 = LR.predict(X_test)"
      ],
      "metadata": {
        "id": "o293_GL8ssa6"
      },
      "execution_count": 14,
      "outputs": []
    },
    {
      "cell_type": "code",
      "source": [
        "yhat1_prob = LR.predict_proba(X_test)\n"
      ],
      "metadata": {
        "id": "F0J_JX2Ws_IF"
      },
      "execution_count": 15,
      "outputs": []
    },
    {
      "cell_type": "code",
      "source": [
        "f1_score(Y_test, yhat1, average='weighted')"
      ],
      "metadata": {
        "colab": {
          "base_uri": "https://localhost:8080/"
        },
        "id": "CAxlKUDptOPL",
        "outputId": "50524cd4-f9eb-4ea5-a2fc-0608fbd09d6d"
      },
      "execution_count": 16,
      "outputs": [
        {
          "output_type": "execute_result",
          "data": {
            "text/plain": [
              "0.7835497835497836"
            ]
          },
          "metadata": {},
          "execution_count": 16
        }
      ]
    },
    {
      "cell_type": "code",
      "source": [
        "metrics.accuracy_score(Y_test, yhat1) # jaccard_scor "
      ],
      "metadata": {
        "colab": {
          "base_uri": "https://localhost:8080/"
        },
        "id": "EIvKJKYHthaN",
        "outputId": "33631206-e029-4c3e-b187-a3680be1e57b"
      },
      "execution_count": 17,
      "outputs": [
        {
          "output_type": "execute_result",
          "data": {
            "text/plain": [
              "0.7777777777777778"
            ]
          },
          "metadata": {},
          "execution_count": 17
        }
      ]
    },
    {
      "cell_type": "code",
      "source": [
        "from sklearn.metrics import log_loss  # we hope log_loss is bigger, the pridect more accuracy\n",
        "log_loss(Y_test, yhat1_prob)"
      ],
      "metadata": {
        "colab": {
          "base_uri": "https://localhost:8080/"
        },
        "id": "i0g-kjjSuImb",
        "outputId": "1df614ef-6547-4151-cf20-754333319b64"
      },
      "execution_count": 18,
      "outputs": [
        {
          "output_type": "execute_result",
          "data": {
            "text/plain": [
              "0.5139876008285368"
            ]
          },
          "metadata": {},
          "execution_count": 18
        }
      ]
    },
    {
      "cell_type": "code",
      "source": [
        "plot_confusion_matrix(Y_test, yhat1)"
      ],
      "metadata": {
        "colab": {
          "base_uri": "https://localhost:8080/",
          "height": 295
        },
        "id": "O1x9eoOuu1sb",
        "outputId": "d0e748a4-c7db-42db-d164-cecd0e6c3104"
      },
      "execution_count": 19,
      "outputs": [
        {
          "output_type": "display_data",
          "data": {
            "text/plain": [
              "<Figure size 432x288 with 2 Axes>"
            ],
            "image/png": "[encoded data removed]"
          },
          "metadata": {
            "needs_background": "light"
          }
        }
      ]
    },
    {
      "cell_type": "code",
      "source": [],
      "metadata": {
        "id": "vSxkNZ3rt6bQ"
      },
      "execution_count": 19,
      "outputs": []
    },
    {
      "cell_type": "code",
      "source": [
        "# define hyperparameters to tune \n",
        "parameters_lr ={\"C\":[0.01,0.1,1],\n",
        "             'penalty':['l2'], \n",
        "             'solver':['lbfgs']}# l1 lasso l2 ridge\n",
        "\n",
        "# define the model\n",
        "lr = LogisticRegression(random_state = 12345)\n",
        "\n",
        "# define the grid search object\n",
        "grid_search_lr = GridSearchCV(\n",
        "    estimator = lr,\n",
        "    param_grid = parameters_lr,\n",
        "    scoring = 'accuracy',\n",
        "    cv = 10\n",
        ")\n",
        "# execute search\n",
        "LR_cv = grid_search_lr.fit(X_train,Y_train)"
      ],
      "metadata": {
        "id": "shNXUxjRtJJ3"
      },
      "execution_count": 23,
      "outputs": []
    },
    {
      "cell_type": "markdown",
      "source": [
        "We output the GridSearchCV object for logistic regression. We display the best parameters using the data attribute best_params_ and the accuracy on the validation data using the data attribute best_score_."
      ],
      "metadata": {
        "id": "zc1qOW5mtngf"
      }
    },
    {
      "cell_type": "code",
      "source": [
        "print(\"tuned hyperparameters :(best parameters) \",LR_cv.best_params_)\n",
        "print(\"accuracy :\", LR_cv.best_score_)"
      ],
      "metadata": {
        "colab": {
          "base_uri": "https://localhost:8080/"
        },
        "id": "nTvQyR9Vtgjj",
        "outputId": "b0bbcb20-018e-4560-d0ae-d78a70f5fe68"
      },
      "execution_count": 24,
      "outputs": [
        {
          "output_type": "stream",
          "name": "stdout",
          "text": [
            "tuned hyperparameters :(best parameters)  {'C': 0.01, 'penalty': 'l2', 'solver': 'lbfgs'}\n",
            "accuracy : 0.8464285714285713\n"
          ]
        }
      ]
    },
    {
      "cell_type": "markdown",
      "source": [
        "#TASK 5\n",
        "Calculate the accuracy on the test data using the method score:"
      ],
      "metadata": {
        "id": "JycUtnBet-VJ"
      }
    },
    {
      "cell_type": "code",
      "source": [
        "print('Accuracy on test data is: {:.3f}'.format(LR_cv.score(X_test, Y_test)))"
      ],
      "metadata": {
        "colab": {
          "base_uri": "https://localhost:8080/"
        },
        "id": "r0EzmTL9t2Ow",
        "outputId": "728c87fb-fbfe-46fc-a525-a343726b0b98"
      },
      "execution_count": 27,
      "outputs": [
        {
          "output_type": "stream",
          "name": "stdout",
          "text": [
            "Accuracy on test data is: 0.833\n"
          ]
        }
      ]
    },
    {
      "cell_type": "code",
      "source": [
        "yhat1 = LR_cv.predict(X_test)\n",
        "plot_confusion_matrix(Y_test, yhat1)"
      ],
      "metadata": {
        "colab": {
          "base_uri": "https://localhost:8080/",
          "height": 295
        },
        "id": "z8Ktym4VuG-W",
        "outputId": "f472900e-39f1-4bbb-8d63-03f4167e71ce"
      },
      "execution_count": 28,
      "outputs": [
        {
          "output_type": "display_data",
          "data": {
            "text/plain": [
              "<Figure size 432x288 with 2 Axes>"
            ],
            "image/png": "[encoded data removed]"
          },
          "metadata": {
            "needs_background": "light"
          }
        }
      ]
    },
    {
      "cell_type": "markdown",
      "source": [
        "#TASK 6 SVM\n",
        "Create a support vector machine object then create a GridSearchCV object svm_cv with cv - 10. Fit the object to find the best parameters from the dictionary parameters."
      ],
      "metadata": {
        "id": "-Sv1Q4V0uTGh"
      }
    },
    {
      "cell_type": "code",
      "source": [
        "for k in ('linear', 'poly', 'rbf','sigmoid'):\n",
        "    svm_model = svm.SVC( kernel = k).fit(X_train,Y_train)\n",
        "    svm_yhat = svm_model.predict(X_test)\n",
        "    print(\"For kernel: {}, the f1 score is: {}\".format(k,f1_score(Y_test,svm_yhat, average='weighted')))"
      ],
      "metadata": {
        "colab": {
          "base_uri": "https://localhost:8080/"
        },
        "id": "0kibeHyxxAw9",
        "outputId": "eacf0088-feb4-4d8a-e0b6-f3402b6df66d"
      },
      "execution_count": 29,
      "outputs": [
        {
          "output_type": "stream",
          "name": "stdout",
          "text": [
            "For kernel: linear, the f1 score is: 0.6666666666666666\n",
            "For kernel: poly, the f1 score is: 0.5333333333333334\n",
            "For kernel: rbf, the f1 score is: 0.764102564102564\n",
            "For kernel: sigmoid, the f1 score is: 0.8148148148148149\n"
          ]
        }
      ]
    },
    {
      "cell_type": "code",
      "source": [
        "clf = svm.SVC(kernel='sigmoid')   # we can see kernel='sigmoid' is best\n",
        "clf.fit(X_train, Y_train) "
      ],
      "metadata": {
        "colab": {
          "base_uri": "https://localhost:8080/"
        },
        "id": "gg51_fmYxBK_",
        "outputId": "3ce3bb46-7024-4f6c-fa2d-2239bccdc2e5"
      },
      "execution_count": 30,
      "outputs": [
        {
          "output_type": "execute_result",
          "data": {
            "text/plain": [
              "SVC(kernel='sigmoid')"
            ]
          },
          "metadata": {},
          "execution_count": 30
        }
      ]
    },
    {
      "cell_type": "code",
      "source": [
        "yhat2=clf.predict(X_test)\n"
      ],
      "metadata": {
        "id": "YQqZlPjgx8ct"
      },
      "execution_count": 31,
      "outputs": []
    },
    {
      "cell_type": "code",
      "source": [
        "f1_score(Y_test, yhat2, average='weighted') "
      ],
      "metadata": {
        "colab": {
          "base_uri": "https://localhost:8080/"
        },
        "id": "V6bObcA6x8Sy",
        "outputId": "5f45eefb-f55a-442e-d718-2814e2649f7f"
      },
      "execution_count": 32,
      "outputs": [
        {
          "output_type": "execute_result",
          "data": {
            "text/plain": [
              "0.8148148148148149"
            ]
          },
          "metadata": {},
          "execution_count": 32
        }
      ]
    },
    {
      "cell_type": "code",
      "source": [
        "metrics.accuracy_score(Y_test, yhat2)"
      ],
      "metadata": {
        "colab": {
          "base_uri": "https://localhost:8080/"
        },
        "id": "UqpUVPCZx73v",
        "outputId": "b62d1e5d-0742-4ac2-e715-b439dfa954ff"
      },
      "execution_count": 33,
      "outputs": [
        {
          "output_type": "execute_result",
          "data": {
            "text/plain": [
              "0.8333333333333334"
            ]
          },
          "metadata": {},
          "execution_count": 33
        }
      ]
    },
    {
      "cell_type": "code",
      "source": [
        "plot_confusion_matrix(Y_test, yhat2)"
      ],
      "metadata": {
        "colab": {
          "base_uri": "https://localhost:8080/",
          "height": 295
        },
        "id": "8YAt49q0yur2",
        "outputId": "383774ae-0330-49a7-e242-b060648dd16f"
      },
      "execution_count": 34,
      "outputs": [
        {
          "output_type": "display_data",
          "data": {
            "text/plain": [
              "<Figure size 432x288 with 2 Axes>"
            ],
            "image/png": "[encoded data removed]"
          },
          "metadata": {
            "needs_background": "light"
          }
        }
      ]
    },
    {
      "cell_type": "code",
      "source": [
        "# define hyperparameters to tune \n",
        "parameters_svm = {'kernel':('linear', 'rbf','poly','rbf', 'sigmoid'),\n",
        "              'C': np.logspace(-3, 3, 5),\n",
        "              'gamma':np.logspace(-3, 3, 5)}\n",
        "\n",
        "# define the model\n",
        "svm = SVC(random_state = 12345)\n",
        "\n",
        "# define the grid search object\n",
        "grid_search_svm = GridSearchCV(\n",
        "    estimator = svm,\n",
        "    param_grid = parameters_svm,\n",
        "    scoring = 'accuracy',\n",
        "    cv = 10\n",
        ")\n",
        "# execute search\n",
        "svm_model = grid_search_svm.fit(X_train,Y_train)"
      ],
      "metadata": {
        "id": "DtX0cD4OuMMu"
      },
      "execution_count": 36,
      "outputs": []
    },
    {
      "cell_type": "code",
      "source": [
        "print(\"tuned hyperparameters :(best parameters) \",svm_model.best_params_)\n",
        "print(\"accuracy :\",svm_model.best_score_)"
      ],
      "metadata": {
        "colab": {
          "base_uri": "https://localhost:8080/"
        },
        "id": "kx28bQKKub5D",
        "outputId": "c52b4bd2-535e-4c53-b1e5-d3b64119f3d9"
      },
      "execution_count": 37,
      "outputs": [
        {
          "output_type": "stream",
          "name": "stdout",
          "text": [
            "tuned hyperparameters :(best parameters)  {'C': 1.0, 'gamma': 0.03162277660168379, 'kernel': 'sigmoid'}\n",
            "accuracy : 0.8482142857142856\n"
          ]
        }
      ]
    },
    {
      "cell_type": "markdown",
      "source": [
        "#TASK 7\n",
        "Calculate the accuracy on the test data using the method score:"
      ],
      "metadata": {
        "id": "KV_NPnEHulwJ"
      }
    },
    {
      "cell_type": "code",
      "source": [
        "print('Accuracy on test data is: {:.3f}'.format(svm_cv.score(X_test, Y_test)))\n"
      ],
      "metadata": {
        "colab": {
          "base_uri": "https://localhost:8080/"
        },
        "id": "pi0USf79uhK6",
        "outputId": "2436ccb3-672b-45a2-8170-096597c2f299"
      },
      "execution_count": null,
      "outputs": [
        {
          "output_type": "stream",
          "name": "stdout",
          "text": [
            "Accuracy on test data is: 0.833\n"
          ]
        }
      ]
    },
    {
      "cell_type": "code",
      "source": [
        "yhat2= svm_model.predict(X_test)\n",
        "plot_confusion_matrix(Y_test, yhat2)"
      ],
      "metadata": {
        "colab": {
          "base_uri": "https://localhost:8080/",
          "height": 295
        },
        "id": "uw6qyKU2urOq",
        "outputId": "abd79704-8bba-4cea-8f8a-f3a9a0ea856f"
      },
      "execution_count": 38,
      "outputs": [
        {
          "output_type": "display_data",
          "data": {
            "text/plain": [
              "<Figure size 432x288 with 2 Axes>"
            ],
            "image/png": "[encoded data removed]"
          },
          "metadata": {
            "needs_background": "light"
          }
        }
      ]
    },
    {
      "cell_type": "markdown",
      "source": [
        "#TASK 8 Decision Tree Classifier\n",
        "Create a decision tree classifier object then create a GridSearchCV object tree_cv with cv = 10. Fit the object to find the best parameters from the dictionary parameters."
      ],
      "metadata": {
        "id": "D62V0VZou_uG"
      }
    },
    {
      "cell_type": "code",
      "source": [
        "max_depth=8\n",
        "\n",
        "for i in range(1,max_depth):\n",
        "    loanpaidTree = DecisionTreeClassifier(criterion=\"entropy\", max_depth = i )  # how to find the best max_depth??\n",
        "     # it shows the default parameters\n",
        "    loanpaidTree.fit(X_train,Y_train)\n",
        "    predTree = loanpaidTree.predict(X_test)\n",
        "    j=metrics.accuracy_score(Y_test, predTree)\n",
        "    k=[]\n",
        "    k.append(j)\n",
        "    \n",
        "    #print(\"DecisionTrees's Accuracy: \", k)\n",
        "    print(k) # max_deth=5 is best. accuracy=0.944"
      ],
      "metadata": {
        "colab": {
          "base_uri": "https://localhost:8080/"
        },
        "id": "kkjuoBTqy8AC",
        "outputId": "0a20757c-f280-4488-daa9-b339ab95b2a9"
      },
      "execution_count": 39,
      "outputs": [
        {
          "output_type": "stream",
          "name": "stdout",
          "text": [
            "[0.8333333333333334]\n",
            "[0.8333333333333334]\n",
            "[0.8333333333333334]\n",
            "[0.8333333333333334]\n",
            "[0.7777777777777778]\n",
            "[0.8333333333333334]\n",
            "[0.7777777777777778]\n"
          ]
        }
      ]
    },
    {
      "cell_type": "code",
      "source": [
        "loanpaidTree = DecisionTreeClassifier(criterion=\"entropy\", max_depth = 5 )  # k=6 is the best 5th row accuracy is hightest\n",
        "loanpaidTree.fit(X_train,Y_train)\n",
        "predTree = loanpaidTree.predict(X_test)\n",
        "metrics.accuracy_score(Y_test, predTree)"
      ],
      "metadata": {
        "colab": {
          "base_uri": "https://localhost:8080/"
        },
        "id": "zLc_qDhdy77X",
        "outputId": "3bf9f37f-1a48-4c39-a60d-f6276cc0e2f2"
      },
      "execution_count": 44,
      "outputs": [
        {
          "output_type": "execute_result",
          "data": {
            "text/plain": [
              "0.9444444444444444"
            ]
          },
          "metadata": {},
          "execution_count": 44
        }
      ]
    },
    {
      "cell_type": "code",
      "source": [
        "f1_score(Y_test, predTree, average='weighted') #predTree replace yhat2"
      ],
      "metadata": {
        "colab": {
          "base_uri": "https://localhost:8080/"
        },
        "id": "fgk51Bouy7wb",
        "outputId": "4cd9964a-7c8e-4752-9fb6-e40a3737f6f4"
      },
      "execution_count": 45,
      "outputs": [
        {
          "output_type": "execute_result",
          "data": {
            "text/plain": [
              "0.9430303030303031"
            ]
          },
          "metadata": {},
          "execution_count": 45
        }
      ]
    },
    {
      "cell_type": "code",
      "source": [
        "tree.plot_tree(loanpaidTree)\n",
        "plt.show()"
      ],
      "metadata": {
        "colab": {
          "base_uri": "https://localhost:8080/",
          "height": 248
        },
        "id": "txbXRDdXy7n1",
        "outputId": "9b992e26-6d6f-46b7-a1a7-7d6853b4e0a5"
      },
      "execution_count": 46,
      "outputs": [
        {
          "output_type": "display_data",
          "data": {
            "text/plain": [
              "<Figure size 432x288 with 1 Axes>"
            ],
            "image/png": "[encoded data removed]"
          },
          "metadata": {
            "needs_background": "light"
          }
        }
      ]
    },
    {
      "cell_type": "code",
      "source": [
        "plot_confusion_matrix(Y_test, predTree)"
      ],
      "metadata": {
        "colab": {
          "base_uri": "https://localhost:8080/",
          "height": 295
        },
        "id": "cReA2_GSy7c5",
        "outputId": "f189b012-0e98-49cf-8c9e-1036ded1a642"
      },
      "execution_count": 47,
      "outputs": [
        {
          "output_type": "display_data",
          "data": {
            "text/plain": [
              "<Figure size 432x288 with 2 Axes>"
            ],
            "image/png": "[encoded data removed]"
          },
          "metadata": {
            "needs_background": "light"
          }
        }
      ]
    },
    {
      "cell_type": "code",
      "source": [
        "# define hyperparameters to tune \n",
        "parameters_tree = {'criterion': ['gini', 'entropy'],\n",
        "     'splitter': ['best', 'random'],\n",
        "     'max_depth': [2*n for n in range(1,10)],\n",
        "     'max_features': ['auto', 'sqrt'],\n",
        "     'min_samples_leaf': [1, 2, 4],\n",
        "     'min_samples_split': [2, 5, 10]}\n",
        "\n",
        "# define the model\n",
        "tree = DecisionTreeClassifier(random_state = 12345)\n",
        "\n",
        "# define the grid search object\n",
        "grid_search_tree = GridSearchCV(\n",
        "    estimator = tree,\n",
        "    param_grid = parameters_tree,\n",
        "    scoring = 'accuracy',\n",
        "    cv = 10\n",
        ")\n",
        "# execute search\n",
        "tree_model = grid_search_tree.fit(X_train, Y_train)"
      ],
      "metadata": {
        "id": "H7vgDHCZvHQk"
      },
      "execution_count": 51,
      "outputs": []
    },
    {
      "cell_type": "code",
      "source": [
        "print(\"tuned hyperparameters :(best parameters) \",tree_model.best_params_)\n",
        "print(\"accuracy :\",tree_model.best_score_)"
      ],
      "metadata": {
        "colab": {
          "base_uri": "https://localhost:8080/"
        },
        "id": "rMPAt3pDvKzo",
        "outputId": "6c41d369-adae-455b-c85f-630cc932cbb9"
      },
      "execution_count": 52,
      "outputs": [
        {
          "output_type": "stream",
          "name": "stdout",
          "text": [
            "tuned hyperparameters :(best parameters)  {'criterion': 'gini', 'max_depth': 6, 'max_features': 'auto', 'min_samples_leaf': 2, 'min_samples_split': 5, 'splitter': 'random'}\n",
            "accuracy : 0.8732142857142856\n"
          ]
        }
      ]
    },
    {
      "cell_type": "markdown",
      "source": [
        "#TASK 9\n",
        "Calculate the accuracy of tree_cv on the test data using the method score:"
      ],
      "metadata": {
        "id": "fqm-z-LUvWAW"
      }
    },
    {
      "cell_type": "code",
      "source": [
        "print('Accuracy on test data is: {:.3f}'.format(tree_model.score(X_test, Y_test)))\n"
      ],
      "metadata": {
        "colab": {
          "base_uri": "https://localhost:8080/"
        },
        "id": "26FoSuqTvQdE",
        "outputId": "7a40c5f5-7a5b-41d0-c816-9cbeda79c0d9"
      },
      "execution_count": null,
      "outputs": [
        {
          "output_type": "stream",
          "name": "stdout",
          "text": [
            "Accuracy on test data is: 0.833\n"
          ]
        }
      ]
    },
    {
      "cell_type": "code",
      "source": [
        "predTree= tree_model.predict(X_test)\n",
        "plot_confusion_matrix(Y_test, predTree)"
      ],
      "metadata": {
        "colab": {
          "base_uri": "https://localhost:8080/",
          "height": 295
        },
        "id": "5DHH1zUhvety",
        "outputId": "2f9cf012-77e1-46b8-9a7e-eba473fabab0"
      },
      "execution_count": 53,
      "outputs": [
        {
          "output_type": "display_data",
          "data": {
            "text/plain": [
              "<Figure size 432x288 with 2 Axes>"
            ],
            "image/png": "[encoded data removed]"
          },
          "metadata": {
            "needs_background": "light"
          }
        }
      ]
    },
    {
      "cell_type": "markdown",
      "source": [
        "#TASK 10 KNN ~K earest neighbors\n",
        "Create a k nearest neighbors object then create a GridSearchCV object knn_cv with cv = 10. Fit the object to find the best parameters from the dictionary parameters."
      ],
      "metadata": {
        "id": "l31w3cKFvmS9"
      }
    },
    {
      "cell_type": "code",
      "source": [
        "Ks = 60\n",
        "mean_acc = np.zeros((Ks-1))\n",
        "std_acc = np.zeros((Ks-1))"
      ],
      "metadata": {
        "id": "yEylPyKN2zVl"
      },
      "execution_count": 54,
      "outputs": []
    },
    {
      "cell_type": "code",
      "source": [
        "for n in range(1,Ks):\n",
        "    \n",
        "    #Train Model and Predict  \n",
        "    neigh = KNeighborsClassifier(n_neighbors = n).fit(X_train,Y_train)\n",
        "    yhat=neigh.predict(X_test)\n",
        "    mean_acc[n-1] = metrics.accuracy_score(Y_test, yhat)\n",
        "\n",
        "    \n",
        "    std_acc[n-1]=np.std(yhat==Y_test)/np.sqrt(yhat.shape[0])\n",
        "\n",
        "mean_acc\n",
        "\n",
        "print( \"The best accuracy was with\", mean_acc.max(), \"with k=\", mean_acc.argmax()+1) "
      ],
      "metadata": {
        "colab": {
          "base_uri": "https://localhost:8080/"
        },
        "id": "mQdOhBaE2zJW",
        "outputId": "822ec94c-4ffb-4c4f-b5ee-e96132240888"
      },
      "execution_count": 55,
      "outputs": [
        {
          "output_type": "stream",
          "name": "stdout",
          "text": [
            "The best accuracy was with 0.7777777777777778 with k= 3\n"
          ]
        }
      ]
    },
    {
      "cell_type": "code",
      "source": [
        "k = 3\n",
        "#Train Model and Predict  \n",
        "neigh = KNeighborsClassifier(n_neighbors = k).fit(X_train,Y_train)\n",
        "yhat4=neigh.predict(X_test)"
      ],
      "metadata": {
        "id": "rqJ_sqLG2zCE"
      },
      "execution_count": 61,
      "outputs": []
    },
    {
      "cell_type": "code",
      "source": [
        "f1_score(Y_test, yhat4, average='weighted') "
      ],
      "metadata": {
        "colab": {
          "base_uri": "https://localhost:8080/"
        },
        "id": "Gea2crKE2y5M",
        "outputId": "39f06ab6-9f22-46a4-f6ec-fccf904177b9"
      },
      "execution_count": 62,
      "outputs": [
        {
          "output_type": "execute_result",
          "data": {
            "text/plain": [
              "0.738095238095238"
            ]
          },
          "metadata": {},
          "execution_count": 62
        }
      ]
    },
    {
      "cell_type": "code",
      "source": [
        "metrics.accuracy_score(Y_test, yhat4) # jaccard_score"
      ],
      "metadata": {
        "colab": {
          "base_uri": "https://localhost:8080/"
        },
        "id": "Qs-qkiDx2yvU",
        "outputId": "80c6ee6b-e87c-406f-d8c4-23e08544ed5c"
      },
      "execution_count": 63,
      "outputs": [
        {
          "output_type": "execute_result",
          "data": {
            "text/plain": [
              "0.7777777777777778"
            ]
          },
          "metadata": {},
          "execution_count": 63
        }
      ]
    },
    {
      "cell_type": "code",
      "source": [
        "plot_confusion_matrix(Y_test, predTree)"
      ],
      "metadata": {
        "colab": {
          "base_uri": "https://localhost:8080/",
          "height": 295
        },
        "id": "CVOPI5ji4DZH",
        "outputId": "e75d9da4-960e-4768-b15d-e7df5201cf87"
      },
      "execution_count": 64,
      "outputs": [
        {
          "output_type": "display_data",
          "data": {
            "text/plain": [
              "<Figure size 432x288 with 2 Axes>"
            ],
            "image/png": "[encoded data removed]"
          },
          "metadata": {
            "needs_background": "light"
          }
        }
      ]
    },
    {
      "cell_type": "code",
      "source": [],
      "metadata": {
        "id": "XAAHy_Yq4DO9"
      },
      "execution_count": 64,
      "outputs": []
    },
    {
      "cell_type": "code",
      "source": [
        "# define hyperparameters to tune\n",
        "parameters_knn = {'n_neighbors': [1, 2, 3, 4, 5, 6, 7, 8, 9, 10],\n",
        "              'algorithm': ['auto', 'ball_tree', 'kd_tree', 'brute'],\n",
        "              'p': [1,2]}\n",
        "\n",
        "# define the model\n",
        "knn = KNeighborsClassifier()\n",
        "\n",
        "# define the grid search object\n",
        "grid_search_knn = GridSearchCV(\n",
        "    estimator = knn,\n",
        "    param_grid = parameters_knn,\n",
        "    scoring = 'accuracy',\n",
        "    cv = 10\n",
        ")\n",
        "# execute search\n",
        "knn_model = grid_search_knn.fit(X_train, Y_train)"
      ],
      "metadata": {
        "id": "RGfr6lphvigh"
      },
      "execution_count": 67,
      "outputs": []
    },
    {
      "cell_type": "code",
      "source": [
        "print(\"tuned hyperparameters :(best parameters) \",knn_model.best_params_)\n",
        "print(\"accuracy :\",knn_model.best_score_)"
      ],
      "metadata": {
        "colab": {
          "base_uri": "https://localhost:8080/"
        },
        "id": "ZUnzYaBivrvH",
        "outputId": "7394ef75-f471-41d5-cc98-dab9c0a7d6f8"
      },
      "execution_count": 68,
      "outputs": [
        {
          "output_type": "stream",
          "name": "stdout",
          "text": [
            "tuned hyperparameters :(best parameters)  {'algorithm': 'auto', 'n_neighbors': 10, 'p': 1}\n",
            "accuracy : 0.8482142857142858\n"
          ]
        }
      ]
    },
    {
      "cell_type": "markdown",
      "source": [
        "#TASK 11\n",
        "Calculate the accuracy of knn_cv on the test data using the method score:"
      ],
      "metadata": {
        "id": "SqH1XW96v2Ef"
      }
    },
    {
      "cell_type": "code",
      "source": [
        "print('Accuracy on test data is: {:.3f}'.format(knn_model.score(X_test, Y_test)))"
      ],
      "metadata": {
        "colab": {
          "base_uri": "https://localhost:8080/"
        },
        "id": "RTN2J78AvvJu",
        "outputId": "28aaa0ed-9ea6-47ff-ba9d-5673f23653f1"
      },
      "execution_count": null,
      "outputs": [
        {
          "output_type": "stream",
          "name": "stdout",
          "text": [
            "Accuracy on test data is: 0.833\n"
          ]
        }
      ]
    },
    {
      "cell_type": "code",
      "source": [
        "yhat4 = knn_model.predict(X_test)\n",
        "plot_confusion_matrix(Y_test, yhat4)"
      ],
      "metadata": {
        "colab": {
          "base_uri": "https://localhost:8080/",
          "height": 295
        },
        "id": "1rPGHD84v0RN",
        "outputId": "3d9ab07f-1cfe-4661-a2b2-23062a617480"
      },
      "execution_count": 69,
      "outputs": [
        {
          "output_type": "display_data",
          "data": {
            "text/plain": [
              "<Figure size 432x288 with 2 Axes>"
            ],
            "image/png": "[encoded data removed]"
          },
          "metadata": {
            "needs_background": "light"
          }
        }
      ]
    },
    {
      "cell_type": "markdown",
      "source": [
        "#TASK 12\n",
        "Find the method performs best:"
      ],
      "metadata": {
        "id": "Upf-4vEnwFvO"
      }
    },
    {
      "cell_type": "code",
      "source": [
        "models = {'KNeighbors':knn_model.best_score_,\n",
        "              'DecisionTree':tree_model.best_score_,\n",
        "              'LogisticRegression':LR_cv.best_score_,\n",
        "              'SupportVector': svm_model.best_score_}\n",
        "\n",
        "bestalgorithm = max(models, key=models.get)\n",
        "print('Best model is', bestalgorithm,'with a score of', models[bestalgorithm])\n",
        "if bestalgorithm == 'DecisionTree':\n",
        "    print('Best params is :', tree_model.best_params_)\n",
        "if bestalgorithm == 'KNeighbors':\n",
        "    print('Best params is :', knn_model.best_params_)\n",
        "if bestalgorithm == 'LogisticRegression':\n",
        "    print('Best params is :', LR_cv.best_params_)\n",
        "if bestalgorithm == 'SupportVector':\n",
        "    print('Best params is :', svm_model.best_params_)"
      ],
      "metadata": {
        "colab": {
          "base_uri": "https://localhost:8080/"
        },
        "id": "Dl1vZK4SwBeN",
        "outputId": "7570d44e-2372-4f29-cec4-61147f591810"
      },
      "execution_count": 70,
      "outputs": [
        {
          "output_type": "stream",
          "name": "stdout",
          "text": [
            "Best model is DecisionTree with a score of 0.8732142857142856\n",
            "Best params is : {'criterion': 'gini', 'max_depth': 6, 'max_features': 'auto', 'min_samples_leaf': 2, 'min_samples_split': 5, 'splitter': 'random'}\n"
          ]
        }
      ]
    },
    {
      "cell_type": "code",
      "source": [],
      "metadata": {
        "id": "J8v7EAxAwLVr"
      },
      "execution_count": null,
      "outputs": []
    }
  ]
}